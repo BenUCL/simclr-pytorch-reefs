{
 "cells": [
  {
   "cell_type": "code",
   "execution_count": 3,
   "metadata": {},
   "outputs": [],
   "source": [
    "from opensoundscape import Audio, Spectrogram"
   ]
  },
  {
   "cell_type": "code",
   "execution_count": 5,
   "metadata": {},
   "outputs": [],
   "source": [
    "audio_path = r'/home/ben/reef-audio-representation-learning/data/full_dataset/test_data.australia.class0.degraded_moth32.20230209_162000.wav'\n",
    "audio_object = Audio.from_file(audio_path)"
   ]
  },
  {
   "cell_type": "code",
   "execution_count": null,
   "metadata": {},
   "outputs": [],
   "source": []
  },
  {
   "cell_type": "code",
   "execution_count": null,
   "metadata": {},
   "outputs": [],
   "source": []
  },
  {
   "cell_type": "markdown",
   "metadata": {},
   "source": [
    "### old code"
   ]
  },
  {
   "cell_type": "code",
   "execution_count": 2,
   "metadata": {},
   "outputs": [
    {
     "name": "stderr",
     "output_type": "stream",
     "text": [
      "/home/ben/miniconda3/envs/ben-python-3.9-env/lib/python3.11/site-packages/lazy_loader/__init__.py:185: RuntimeWarning: subpackages can technically be lazily loaded, but it causes the package to be eagerly loaded even if it is already lazily loaded.So, you probably shouldn't use subpackages with this lazy feature.\n",
      "  warnings.warn(msg, RuntimeWarning)\n",
      "/home/ben/miniconda3/envs/ben-python-3.9-env/lib/python3.11/site-packages/lazy_loader/__init__.py:185: RuntimeWarning: subpackages can technically be lazily loaded, but it causes the package to be eagerly loaded even if it is already lazily loaded.So, you probably shouldn't use subpackages with this lazy feature.\n",
      "  warnings.warn(msg, RuntimeWarning)\n"
     ]
    },
    {
     "ename": "TypeError",
     "evalue": "melspectrogram() takes 0 positional arguments but 1 positional argument (and 1 keyword-only argument) were given",
     "output_type": "error",
     "traceback": [
      "\u001b[0;31m---------------------------------------------------------------------------\u001b[0m",
      "\u001b[0;31mTypeError\u001b[0m                                 Traceback (most recent call last)",
      "Cell \u001b[0;32mIn[2], line 12\u001b[0m\n\u001b[1;32m      9\u001b[0m y, sr \u001b[39m=\u001b[39m librosa\u001b[39m.\u001b[39mload(audio_path, sr\u001b[39m=\u001b[39m\u001b[39mNone\u001b[39;00m)\n\u001b[1;32m     11\u001b[0m \u001b[39m# Compute the mel spectrogram\u001b[39;00m\n\u001b[0;32m---> 12\u001b[0m mel_spec \u001b[39m=\u001b[39m librosa\u001b[39m.\u001b[39mfeature\u001b[39m.\u001b[39mmelspectrogram(y, sr\u001b[39m=\u001b[39msr)\n\u001b[1;32m     14\u001b[0m \u001b[39m# Compute the PCEN\u001b[39;00m\n\u001b[1;32m     15\u001b[0m pcen \u001b[39m=\u001b[39m librosa\u001b[39m.\u001b[39mpcen(mel_spec)\n",
      "\u001b[0;31mTypeError\u001b[0m: melspectrogram() takes 0 positional arguments but 1 positional argument (and 1 keyword-only argument) were given"
     ]
    }
   ],
   "source": [
    "import librosa\n",
    "import librosa.display\n",
    "import matplotlib.pyplot as plt\n",
    "\n",
    "# audio path\n",
    "audio_path = r'/home/ben/reef-audio-representation-learning/data/full_dataset/test_data.australia.class0.degraded_moth32.20230209_162000.wav'\n",
    "\n",
    "# Load the audio file\n",
    "y, sr = librosa.load(audio_path, sr=None)\n",
    "\n",
    "# Compute the mel spectrogram\n",
    "mel_spec = librosa.feature.melspectrogram(y, sr=sr)\n",
    "\n",
    "# Compute the PCEN\n",
    "pcen = librosa.pcen(mel_spec)\n",
    "\n",
    "# Plot the PCEN spectrogram\n",
    "plt.figure(figsize=(10, 4))\n",
    "librosa.display.specshow(pcen, sr=sr, x_axis='time', y_axis='mel', hop_length=512)\n",
    "plt.colorbar(format='%+2.0f dB')\n",
    "plt.title('PCEN Spectrogram')\n",
    "plt.tight_layout()\n",
    "plt.show()\n"
   ]
  }
 ],
 "metadata": {
  "kernelspec": {
   "display_name": "ben-python-3.9-env",
   "language": "python",
   "name": "python3"
  },
  "language_info": {
   "codemirror_mode": {
    "name": "ipython",
    "version": 3
   },
   "file_extension": ".py",
   "mimetype": "text/x-python",
   "name": "python",
   "nbconvert_exporter": "python",
   "pygments_lexer": "ipython3",
   "version": "3.11.4"
  },
  "orig_nbformat": 4
 },
 "nbformat": 4,
 "nbformat_minor": 2
}
