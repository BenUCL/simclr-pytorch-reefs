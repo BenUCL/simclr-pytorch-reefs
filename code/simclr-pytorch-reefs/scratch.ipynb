{
 "cells": [
  {
   "cell_type": "code",
   "execution_count": 1,
   "metadata": {},
   "outputs": [
    {
     "ename": "ModuleNotFoundError",
     "evalue": "No module named 'my_custom_dataset_eval'",
     "output_type": "error",
     "traceback": [
      "\u001b[0;31m---------------------------------------------------------------------------\u001b[0m",
      "\u001b[0;31mModuleNotFoundError\u001b[0m                       Traceback (most recent call last)",
      "Cell \u001b[0;32mIn[1], line 21\u001b[0m\n\u001b[1;32m     19\u001b[0m \u001b[39m# let's import our own classes and functions!\u001b[39;00m\n\u001b[1;32m     20\u001b[0m \u001b[39mfrom\u001b[39;00m \u001b[39mevaluation\u001b[39;00m\u001b[39m.\u001b[39;00m\u001b[39mutil_eval\u001b[39;00m \u001b[39mimport\u001b[39;00m init_seed\n\u001b[0;32m---> 21\u001b[0m \u001b[39mfrom\u001b[39;00m \u001b[39mmy_custom_dataset_eval\u001b[39;00m \u001b[39mimport\u001b[39;00m CTDataset \u001b[39m###??\u001b[39;00m\n\u001b[1;32m     22\u001b[0m \u001b[39mfrom\u001b[39;00m \u001b[39mmodel_eval\u001b[39;00m \u001b[39mimport\u001b[39;00m CustomResNet18, CustomResNet50, SimClrPytorchResNet50, PAWSResNet50 \n\u001b[1;32m     23\u001b[0m \u001b[39mfrom\u001b[39;00m \u001b[39msklearn\u001b[39;00m\u001b[39m.\u001b[39;00m\u001b[39mmetrics\u001b[39;00m \u001b[39mimport\u001b[39;00m balanced_accuracy_score\n",
      "\u001b[0;31mModuleNotFoundError\u001b[0m: No module named 'my_custom_dataset_eval'"
     ]
    }
   ],
   "source": [
    "'''\n",
    "    Training script. Here, we load the training and validation datasets (and\n",
    "    data loaders) and the model and train and validate the model accordingly.\n",
    "\n",
    "    2022 Benjamin Kellenberger\n",
    "'''\n",
    "\n",
    "import os\n",
    "import argparse\n",
    "import yaml\n",
    "import glob\n",
    "from tqdm import trange\n",
    "\n",
    "import torch\n",
    "import torch.nn as nn\n",
    "from torch.utils.data import DataLoader\n",
    "from torch.optim import SGD\n",
    "\n",
    "# let's import our own classes and functions!\n",
    "from evaluation.util_eval import init_seed\n",
    "from evaluation.my_custom_dataset_eval import CTDataset ###??\n",
    "from model_eval import CustomResNet18, CustomResNet50, SimClrPytorchResNet50, PAWSResNet50 \n",
    "from sklearn.metrics import balanced_accuracy_score\n",
    "from sklearn.utils import class_weight\n",
    "import numpy as np\n",
    "import wandb\n",
    "\n",
    "\n",
    "\n",
    "def create_dataloader(cfg, split='train'):\n",
    "    '''\n",
    "        Loads a dataset according to the provided split and wraps it in a\n",
    "        PyTorch DataLoader object.\n",
    "    '''\n",
    "    #dataset_instance = CTDataset(cfg, split)        # create an object instance of our CTDataset class\n",
    "    dataset_instance = CTDataset(cfg, split='test_data', transform=False) # remove transform call from \n",
    "\n",
    "    device = cfg['device']\n",
    "\n",
    "    dataLoader = DataLoader(\n",
    "            dataset=dataset_instance,\n",
    "            batch_size=cfg['batch_size'], ## is there any drop-last going on? - ben\n",
    "            shuffle=True,\n",
    "            num_workers=cfg['num_workers']\n",
    "        )\n",
    "    \n",
    "    ### compute weights for class balancing\n",
    "    classes_for_weighting = []\n",
    "    for data, labels in dataLoader:\n",
    "        classes_for_weighting.extend(list(labels.numpy()))  \n",
    "\n",
    "    class_weights=class_weight.compute_class_weight('balanced',classes = np.unique(classes_for_weighting),y = np.array(classes_for_weighting))\n",
    "    class_weights = class_weights/np.sum(class_weights)\n",
    "    class_weights=torch.tensor(class_weights,dtype=torch.float).to(device)\n",
    "\n",
    "    return dataLoader, class_weights"
   ]
  },
  {
   "cell_type": "code",
   "execution_count": null,
   "metadata": {},
   "outputs": [],
   "source": []
  }
 ],
 "metadata": {
  "kernelspec": {
   "display_name": "simclr_pytorch_reefs",
   "language": "python",
   "name": "python3"
  },
  "language_info": {
   "codemirror_mode": {
    "name": "ipython",
    "version": 3
   },
   "file_extension": ".py",
   "mimetype": "text/x-python",
   "name": "python",
   "nbconvert_exporter": "python",
   "pygments_lexer": "ipython3",
   "version": "3.8.17"
  },
  "orig_nbformat": 4
 },
 "nbformat": 4,
 "nbformat_minor": 2
}
