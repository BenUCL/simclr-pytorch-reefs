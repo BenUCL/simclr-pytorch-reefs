{
 "cells": [
  {
   "cell_type": "markdown",
   "metadata": {},
   "source": [
    "# Embedding extractor\n",
    "\n",
    "Note my_custom_dataset.py currently uses my data format. It will need switching up to jsut load new audio isntead, maybe cut this up etc. Could turn to open soundscape for this?"
   ]
  },
  {
   "cell_type": "code",
   "execution_count": 1,
   "metadata": {},
   "outputs": [],
   "source": [
    "import torch\n",
    "import torch.nn as nn\n",
    "import torchvision.models as models\n",
    "from torch.utils.data import DataLoader\n",
    "\n",
    "# my_custom_dataset.py must be in the same directory as this script\n",
    "from my_custom_dataset import CTDataset"
   ]
  },
  {
   "cell_type": "markdown",
   "metadata": {},
   "source": [
    "Create a quick config, maybe make an actual file eventually"
   ]
  },
  {
   "cell_type": "code",
   "execution_count": 7,
   "metadata": {},
   "outputs": [],
   "source": [
    "starting_weights = \"/home/ben/reef-audio-representation-learning/code/simclr-pytorch-reefs/logs/exman-train.py/runs/baseline/checkpoint-5100.pth.tar\"\n",
    "\n",
    "cfg = {'num_classes': 2, 'starting_weights': starting_weights, 'finetune': False,\n",
    "       'data_path': '/mnt/ssd-cluster/ben/data/full_dataset/', \n",
    "       'json_path': '/home/ben/reef-audio-representation-learning/data/dataset.json',\n",
    "       'test_dataset': 'test_australia'} #######################"
   ]
  },
  {
   "cell_type": "markdown",
   "metadata": {},
   "source": [
    "### Load model"
   ]
  },
  {
   "cell_type": "code",
   "execution_count": 11,
   "metadata": {},
   "outputs": [],
   "source": [
    "# Your model definition\n",
    "class SimClrPytorchResNet50(nn.Module):\n",
    "    def __init__(self, num_classes):\n",
    "        super(SimClrPytorchResNet50, self).__init__()\n",
    "        self.convnet = models.resnet50(pretrained=False)\n",
    "        last_layer = self.convnet.fc\n",
    "        in_features = last_layer.in_features\n",
    "        self.convnet.fc = nn.Identity()\n",
    "        self.classifier = nn.Linear(in_features, num_classes)\n",
    "\n",
    "    def forward(self, x):\n",
    "        '''\n",
    "            Forward pass. Here, we define how to apply our model. It's basically\n",
    "            applying our modified ResNet-18 on the input tensor (\"x\") and then\n",
    "            apply the final classifier layer on the ResNet-18 output to get our\n",
    "            num_classes prediction.\n",
    "        '''\n",
    "        # x.size(): [B x 3 x W x H]\n",
    "        features = self.convnet(x)    # features.size(): [B x 512 x W x H]\n",
    "        prediction = self.classifier(features)  # prediction.size(): [B x num_classes]\n",
    "\n",
    "        return prediction\n",
    "\n",
    "# Your function to load pretrained weights\n",
    "def load_pretrained_weights(cfg, model):\n",
    "    custom_weights = cfg['starting_weights']\n",
    "    state = torch.load(open(custom_weights, 'rb'), map_location='cpu')\n",
    "\n",
    "    if 'state_dict' in state.keys():\n",
    "        pretrained_dict = state['state_dict']\n",
    "    else:\n",
    "        pretrained_dict = state['model']\n",
    "\n",
    "    model_dict = model.state_dict()\n",
    "    pretrained_dict = {k: v for k, v in pretrained_dict.items() if k in model_dict and k not in ['classifier.weight', 'classifier.bias']}\n",
    "    log = model.load_state_dict(pretrained_dict, strict=False)\n",
    "    assert log.missing_keys == ['classifier.weight', 'classifier.bias']\n",
    "    return model"
   ]
  },
  {
   "cell_type": "code",
   "execution_count": 12,
   "metadata": {},
   "outputs": [
    {
     "name": "stderr",
     "output_type": "stream",
     "text": [
      "/home/ben/miniconda3/envs/simclr_pytorch_reefs/lib/python3.8/site-packages/torchvision/models/_utils.py:208: UserWarning: The parameter 'pretrained' is deprecated since 0.13 and may be removed in the future, please use 'weights' instead.\n",
      "  warnings.warn(\n",
      "/home/ben/miniconda3/envs/simclr_pytorch_reefs/lib/python3.8/site-packages/torchvision/models/_utils.py:223: UserWarning: Arguments other than a weight enum or `None` for 'weights' are deprecated since 0.13 and may be removed in the future. The current behavior is equivalent to passing `weights=None`.\n",
      "  warnings.warn(msg)\n"
     ]
    }
   ],
   "source": [
    "# Initialize your model\n",
    "model_instance = SimClrPytorchResNet50(cfg['num_classes'])\n",
    "\n",
    "# Load the pretrained weights\n",
    "model_instance = load_pretrained_weights(cfg, model_instance)"
   ]
  },
  {
   "cell_type": "code",
   "execution_count": 4,
   "metadata": {},
   "outputs": [],
   "source": [
    "# # not using it currently, unsure if works\n",
    "# def extract_multiple_embeddings(model, dataloader, device):\n",
    "#     model.eval()\n",
    "#     all_embeddings = []\n",
    "    \n",
    "#     with torch.no_grad():\n",
    "#         for i, (images, labels) in enumerate(dataloader):\n",
    "#             images = images.to(device)\n",
    "#             embeddings = model.convnet(images)  # Get embeddings from the convnet\n",
    "#             all_embeddings.append(embeddings.cpu().numpy())\n",
    "            \n",
    "#     return np.concatenate(all_embeddings)"
   ]
  },
  {
   "cell_type": "markdown",
   "metadata": {},
   "source": [
    "### Create dataloader"
   ]
  },
  {
   "cell_type": "code",
   "execution_count": 20,
   "metadata": {},
   "outputs": [],
   "source": [
    "from torch.utils.data import DataLoader, SubsetRandomSampler"
   ]
  },
  {
   "cell_type": "code",
   "execution_count": 23,
   "metadata": {},
   "outputs": [
    {
     "ename": "ValueError",
     "evalue": "num_samples should be a positive integer value, but got num_samples=0",
     "output_type": "error",
     "traceback": [
      "\u001b[0;31m---------------------------------------------------------------------------\u001b[0m",
      "\u001b[0;31mValueError\u001b[0m                                Traceback (most recent call last)",
      "Cell \u001b[0;32mIn[23], line 11\u001b[0m\n\u001b[1;32m      6\u001b[0m train_percent \u001b[39m=\u001b[39m \u001b[39m'\u001b[39m\u001b[39m0.5\u001b[39m\u001b[39m'\u001b[39m\n\u001b[1;32m      8\u001b[0m dataset \u001b[39m=\u001b[39m CTDataset_train(cfg, split\u001b[39m=\u001b[39msplit, transform\u001b[39m=\u001b[39mtransform, train_percent\u001b[39m=\u001b[39mtrain_percent)\n\u001b[0;32m---> 11\u001b[0m sample_loader \u001b[39m=\u001b[39m DataLoader(dataset, batch_size\u001b[39m=\u001b[39;49m\u001b[39m1\u001b[39;49m, shuffle\u001b[39m=\u001b[39;49m\u001b[39mTrue\u001b[39;49;00m)\n",
      "File \u001b[0;32m~/miniconda3/envs/simclr_pytorch_reefs/lib/python3.8/site-packages/torch/utils/data/dataloader.py:351\u001b[0m, in \u001b[0;36mDataLoader.__init__\u001b[0;34m(self, dataset, batch_size, shuffle, sampler, batch_sampler, num_workers, collate_fn, pin_memory, drop_last, timeout, worker_init_fn, multiprocessing_context, generator, prefetch_factor, persistent_workers, pin_memory_device)\u001b[0m\n\u001b[1;32m    349\u001b[0m \u001b[39melse\u001b[39;00m:  \u001b[39m# map-style\u001b[39;00m\n\u001b[1;32m    350\u001b[0m     \u001b[39mif\u001b[39;00m shuffle:\n\u001b[0;32m--> 351\u001b[0m         sampler \u001b[39m=\u001b[39m RandomSampler(dataset, generator\u001b[39m=\u001b[39;49mgenerator)  \u001b[39m# type: ignore[arg-type]\u001b[39;00m\n\u001b[1;32m    352\u001b[0m     \u001b[39melse\u001b[39;00m:\n\u001b[1;32m    353\u001b[0m         sampler \u001b[39m=\u001b[39m SequentialSampler(dataset)  \u001b[39m# type: ignore[arg-type]\u001b[39;00m\n",
      "File \u001b[0;32m~/miniconda3/envs/simclr_pytorch_reefs/lib/python3.8/site-packages/torch/utils/data/sampler.py:107\u001b[0m, in \u001b[0;36mRandomSampler.__init__\u001b[0;34m(self, data_source, replacement, num_samples, generator)\u001b[0m\n\u001b[1;32m    103\u001b[0m     \u001b[39mraise\u001b[39;00m \u001b[39mTypeError\u001b[39;00m(\u001b[39m\"\u001b[39m\u001b[39mreplacement should be a boolean value, but got \u001b[39m\u001b[39m\"\u001b[39m\n\u001b[1;32m    104\u001b[0m                     \u001b[39m\"\u001b[39m\u001b[39mreplacement=\u001b[39m\u001b[39m{}\u001b[39;00m\u001b[39m\"\u001b[39m\u001b[39m.\u001b[39mformat(\u001b[39mself\u001b[39m\u001b[39m.\u001b[39mreplacement))\n\u001b[1;32m    106\u001b[0m \u001b[39mif\u001b[39;00m \u001b[39mnot\u001b[39;00m \u001b[39misinstance\u001b[39m(\u001b[39mself\u001b[39m\u001b[39m.\u001b[39mnum_samples, \u001b[39mint\u001b[39m) \u001b[39mor\u001b[39;00m \u001b[39mself\u001b[39m\u001b[39m.\u001b[39mnum_samples \u001b[39m<\u001b[39m\u001b[39m=\u001b[39m \u001b[39m0\u001b[39m:\n\u001b[0;32m--> 107\u001b[0m     \u001b[39mraise\u001b[39;00m \u001b[39mValueError\u001b[39;00m(\u001b[39m\"\u001b[39m\u001b[39mnum_samples should be a positive integer \u001b[39m\u001b[39m\"\u001b[39m\n\u001b[1;32m    108\u001b[0m                      \u001b[39m\"\u001b[39m\u001b[39mvalue, but got num_samples=\u001b[39m\u001b[39m{}\u001b[39;00m\u001b[39m\"\u001b[39m\u001b[39m.\u001b[39mformat(\u001b[39mself\u001b[39m\u001b[39m.\u001b[39mnum_samples))\n",
      "\u001b[0;31mValueError\u001b[0m: num_samples should be a positive integer value, but got num_samples=0"
     ]
    }
   ],
   "source": [
    "dataset = CTDataset(cfg, split='test_data', transform=True) # ditch split at some point\n",
    "sample_loader = DataLoader(dataset, batch_size=1, shuffle=True) "
   ]
  },
  {
   "cell_type": "code",
   "execution_count": 28,
   "metadata": {},
   "outputs": [],
   "source": [
    "def extract_single_embedding(model, single_batch, device):\n",
    "    model.eval()\n",
    "    with torch.no_grad():\n",
    "        images = single_batch  # Assuming the DataLoader returns only spectrogram, not labels\n",
    "        images = images.to(device)\n",
    "        embedding = model.convnet(images)  # Get embeddings from the convnet\n",
    "        return embedding.cpu().numpy()\n",
    "\n",
    "def extract_multiple_embeddings(model, data_batch, device):\n",
    "    model.eval()\n",
    "    \n",
    "    # Forward pass to get embeddings\n",
    "    with torch.no_grad():\n",
    "        # Assuming that your model has a method or attribute `convnet` that you want to get embeddings from\n",
    "        embeddings = model.convnet(data)\n",
    "        \n",
    "    return embeddings"
   ]
  },
  {
   "cell_type": "code",
   "execution_count": 41,
   "metadata": {},
   "outputs": [
    {
     "name": "stdout",
     "output_type": "stream",
     "text": [
      "Looking at 2000 samples\n"
     ]
    },
    {
     "data": {
      "image/png": "[encoded data removed]",
      "text/plain": [
       "<Figure size 2000x500 with 1 Axes>"
      ]
     },
     "metadata": {},
     "output_type": "display_data"
    }
   ],
   "source": [
    "#sample_loader = DataLoader(dataset, batch_size=10, shuffle=True) \n",
    "\n",
    "# Initialize iterator and list to hold embeddings\n",
    "sample_iterator = iter(sample_loader)\n",
    "all_embeddings = []\n",
    "\n",
    "# Function to get the next batch of embeddings\n",
    "def get_next_batch_embeddings(sample_iterator, model, device):\n",
    "    batch = next(sample_iterator)\n",
    "    return extract_multiple_embeddings(model, batch, device)  # Assuming this function is able to handle batches\n",
    "\n",
    "# Get 10 embeddings\n",
    "for _ in range(10):  # Change the range to get more batches\n",
    "    batch_embeddings = get_next_batch_embeddings(sample_iterator, model_instance, device)\n",
    "    all_embeddings.append(batch_embeddings)\n",
    "\n",
    "print(f'Looking at {len(all_embeddings)} samples')\n",
    "\n",
    "# Convert list of tensors to a single tensor\n",
    "all_embeddings = torch.cat(all_embeddings, dim=0)\n",
    "\n",
    "# Flatten the tensor to 1D for histogram plotting\n",
    "all_embedding_values = all_embeddings.flatten().cpu().numpy()\n",
    "\n",
    "# Plot histogram\n",
    "plt.figure(figsize=(20, 5))\n",
    "bin_size = 0.05\n",
    "bin_edges = np.arange(start=min(all_embedding_values), stop=max(all_embedding_values) + bin_size, step=bin_size)\n",
    "\n",
    "plt.hist(all_embedding_values, bins=bin_edges, alpha=0.7, edgecolor='black')\n",
    "plt.title('Histogram of Embedding Values')\n",
    "plt.xlabel('Value')\n",
    "plt.ylabel('Frequency')\n",
    "plt.show()"
   ]
  },
  {
   "cell_type": "markdown",
   "metadata": {},
   "source": [
    "### Plot the histogram of one sample\n",
    "\n",
    "We set split = test_data to make sure its from the test_data"
   ]
  },
  {
   "cell_type": "code",
   "execution_count": 20,
   "metadata": {},
   "outputs": [
    {
     "name": "stdout",
     "output_type": "stream",
     "text": [
      "Single embedding shape: (1, 2048)\n"
     ]
    }
   ],
   "source": [
    "# Make sure to move your model to the device\n",
    "device = torch.device('cuda' if torch.cuda.is_available() else 'cpu')\n",
    "model_instance.to(device)\n",
    "\n",
    "# Fetch a single batch from your DataLoader\n",
    "single_batch = next(iter(sample_loader))\n",
    "\n",
    "# Extract embeddings for this single batch\n",
    "single_embedding = extract_single_embedding(model_instance, single_batch, device)\n",
    "\n",
    "print(f\"Single embedding shape: {single_embedding.shape}\")\n"
   ]
  },
  {
   "cell_type": "code",
   "execution_count": 22,
   "metadata": {},
   "outputs": [
    {
     "data": {
      "image/png": "[encoded data removed]",
      "text/plain": [
       "<Figure size 2000x500 with 1 Axes>"
      ]
     },
     "metadata": {},
     "output_type": "display_data"
    }
   ],
   "source": [
    "import matplotlib.pyplot as plt\n",
    "\n",
    "# Assuming single_embedding is your obtained embedding\n",
    "embedding_values = single_embedding.flatten()  # Flatten to 1D if not already\n",
    "\n",
    "plt.figure(figsize=(20, 5))  # Set the figure size for better visibility\n",
    "\n",
    "bin_size = 0.05\n",
    "bin_edges = np.arange(start=min(embedding_values), stop=max(embedding_values) + bin_size, step=bin_size)\n",
    "\n",
    "plt.hist(embedding_values, bins=bin_edges, alpha=0.7, edgecolor='black')\n",
    "plt.title('Histogram of Embedding Values')\n",
    "plt.xlabel('Value')\n",
    "plt.ylabel('Frequency')\n",
    "\n",
    "plt.show()\n"
   ]
  },
  {
   "cell_type": "markdown",
   "metadata": {},
   "source": [
    "### Test embedding extractor \n",
    "Uses randomly generated images (3,224,224)"
   ]
  },
  {
   "cell_type": "code",
   "execution_count": 5,
   "metadata": {},
   "outputs": [
    {
     "name": "stdout",
     "output_type": "stream",
     "text": [
      "All embeddings shape: (100, 2048)\n"
     ]
    }
   ],
   "source": [
    "import torch\n",
    "import torch.utils.data as data\n",
    "import numpy as np\n",
    "\n",
    "# Create random tensors to simulate your image data\n",
    "num_samples = 100  # Number of random samples\n",
    "image_shape = (3, 224, 224)  # Shape of each \"image\"\n",
    "\n",
    "random_data = torch.randn(num_samples, *image_shape)\n",
    "random_labels = torch.randint(0, 2, (num_samples,))  # Random labels assuming binary classification\n",
    "\n",
    "# Create a DataLoader\n",
    "dataset = data.TensorDataset(random_data, random_labels)\n",
    "dataloader = data.DataLoader(dataset, batch_size=16, shuffle=True)\n",
    "\n",
    "# Extract embeddings using your function\n",
    "device = torch.device('cuda' if torch.cuda.is_available() else 'cpu')\n",
    "\n",
    "# Make sure to move your model to the device\n",
    "model_instance.to(device)\n",
    "\n",
    "# Assuming extract_embeddings is the function you used earlier\n",
    "all_embeddings = extract_embeddings(model_instance, dataloader, device)\n",
    "\n",
    "print(f\"All embeddings shape: {all_embeddings.shape}\")\n"
   ]
  },
  {
   "cell_type": "markdown",
   "metadata": {},
   "source": [
    "# PCA stuff"
   ]
  },
  {
   "cell_type": "code",
   "execution_count": 8,
   "metadata": {},
   "outputs": [],
   "source": [
    "from my_custom_dataset_eval import CTDataset_train, CTDataset_test\n",
    "\n",
    "split = 'test_data'\n",
    "transform = False\n",
    "train_percent = 0.8\n",
    "\n",
    "dataset = CTDataset_train(cfg, split=split, transform=transform, train_percent=train_percent)"
   ]
  },
  {
   "cell_type": "code",
   "execution_count": 9,
   "metadata": {},
   "outputs": [],
   "source": [
    "def get_dataloader(cfg, split, transform, train_percent, batch_size, shuffle, num_workers):\n",
    "    \n",
    "    dataset = CTDataset_train(cfg, split, transform, train_percent)\n",
    "\n",
    "    dataloader = DataLoader(\n",
    "        dataset, \n",
    "        batch_size=batch_size,\n",
    "        num_workers=num_workers,\n",
    "        shuffle=shuffle\n",
    "    )\n",
    "\n",
    "    return dataloader\n",
    "\n",
    "sample_loader = get_dataloader(cfg, split, transform=False, train_percent = train_percent, batch_size=32, shuffle=False, num_workers=4) \n"
   ]
  },
  {
   "cell_type": "code",
   "execution_count": 13,
   "metadata": {},
   "outputs": [
    {
     "ename": "NotImplementedError",
     "evalue": "Module [SimClrPytorchResNet50] is missing the required \"forward\" function",
     "output_type": "error",
     "traceback": [
      "\u001b[0;31m---------------------------------------------------------------------------\u001b[0m",
      "\u001b[0;31mNotImplementedError\u001b[0m                       Traceback (most recent call last)",
      "Cell \u001b[0;32mIn[13], line 21\u001b[0m\n\u001b[1;32m     18\u001b[0m X \u001b[39m=\u001b[39m X\u001b[39m.\u001b[39mto(device)  \n\u001b[1;32m     20\u001b[0m \u001b[39m# Forward pass \u001b[39;00m\n\u001b[0;32m---> 21\u001b[0m output \u001b[39m=\u001b[39m model_instance(X)\n\u001b[1;32m     23\u001b[0m \u001b[39m# Extract embeddings\u001b[39;00m\n\u001b[1;32m     24\u001b[0m emb \u001b[39m=\u001b[39m output[\u001b[39m'\u001b[39m\u001b[39membeddings\u001b[39m\u001b[39m'\u001b[39m]\n",
      "File \u001b[0;32m~/miniconda3/envs/simclr_pytorch_reefs/lib/python3.8/site-packages/torch/nn/modules/module.py:1501\u001b[0m, in \u001b[0;36mModule._call_impl\u001b[0;34m(self, *args, **kwargs)\u001b[0m\n\u001b[1;32m   1496\u001b[0m \u001b[39m# If we don't have any hooks, we want to skip the rest of the logic in\u001b[39;00m\n\u001b[1;32m   1497\u001b[0m \u001b[39m# this function, and just call forward.\u001b[39;00m\n\u001b[1;32m   1498\u001b[0m \u001b[39mif\u001b[39;00m \u001b[39mnot\u001b[39;00m (\u001b[39mself\u001b[39m\u001b[39m.\u001b[39m_backward_hooks \u001b[39mor\u001b[39;00m \u001b[39mself\u001b[39m\u001b[39m.\u001b[39m_backward_pre_hooks \u001b[39mor\u001b[39;00m \u001b[39mself\u001b[39m\u001b[39m.\u001b[39m_forward_hooks \u001b[39mor\u001b[39;00m \u001b[39mself\u001b[39m\u001b[39m.\u001b[39m_forward_pre_hooks\n\u001b[1;32m   1499\u001b[0m         \u001b[39mor\u001b[39;00m _global_backward_pre_hooks \u001b[39mor\u001b[39;00m _global_backward_hooks\n\u001b[1;32m   1500\u001b[0m         \u001b[39mor\u001b[39;00m _global_forward_hooks \u001b[39mor\u001b[39;00m _global_forward_pre_hooks):\n\u001b[0;32m-> 1501\u001b[0m     \u001b[39mreturn\u001b[39;00m forward_call(\u001b[39m*\u001b[39;49margs, \u001b[39m*\u001b[39;49m\u001b[39m*\u001b[39;49mkwargs)\n\u001b[1;32m   1502\u001b[0m \u001b[39m# Do not call functions when jit is used\u001b[39;00m\n\u001b[1;32m   1503\u001b[0m full_backward_hooks, non_full_backward_hooks \u001b[39m=\u001b[39m [], []\n",
      "File \u001b[0;32m~/miniconda3/envs/simclr_pytorch_reefs/lib/python3.8/site-packages/torch/nn/modules/module.py:363\u001b[0m, in \u001b[0;36m_forward_unimplemented\u001b[0;34m(self, *input)\u001b[0m\n\u001b[1;32m    352\u001b[0m \u001b[39mdef\u001b[39;00m \u001b[39m_forward_unimplemented\u001b[39m(\u001b[39mself\u001b[39m, \u001b[39m*\u001b[39m\u001b[39minput\u001b[39m: Any) \u001b[39m-\u001b[39m\u001b[39m>\u001b[39m \u001b[39mNone\u001b[39;00m:\n\u001b[1;32m    353\u001b[0m \u001b[39m    \u001b[39m\u001b[39mr\u001b[39m\u001b[39m\"\"\"Defines the computation performed at every call.\u001b[39;00m\n\u001b[1;32m    354\u001b[0m \n\u001b[1;32m    355\u001b[0m \u001b[39m    Should be overridden by all subclasses.\u001b[39;00m\n\u001b[0;32m   (...)\u001b[0m\n\u001b[1;32m    361\u001b[0m \u001b[39m        registered hooks while the latter silently ignores them.\u001b[39;00m\n\u001b[1;32m    362\u001b[0m \u001b[39m    \"\"\"\u001b[39;00m\n\u001b[0;32m--> 363\u001b[0m     \u001b[39mraise\u001b[39;00m \u001b[39mNotImplementedError\u001b[39;00m(\u001b[39mf\u001b[39m\u001b[39m\"\u001b[39m\u001b[39mModule [\u001b[39m\u001b[39m{\u001b[39;00m\u001b[39mtype\u001b[39m(\u001b[39mself\u001b[39m)\u001b[39m.\u001b[39m\u001b[39m__name__\u001b[39m\u001b[39m}\u001b[39;00m\u001b[39m] is missing the required \u001b[39m\u001b[39m\\\"\u001b[39;00m\u001b[39mforward\u001b[39m\u001b[39m\\\"\u001b[39;00m\u001b[39m function\u001b[39m\u001b[39m\"\u001b[39m)\n",
      "\u001b[0;31mNotImplementedError\u001b[0m: Module [SimClrPytorchResNet50] is missing the required \"forward\" function"
     ]
    }
   ],
   "source": [
    "# Extract embeddings on GPU if available\n",
    "if torch.cuda.is_available():\n",
    "    device = 'cuda'\n",
    "else:\n",
    "    device = 'cpu'\n",
    "\n",
    "# Put model on device  \n",
    "model_instance.to(device)\n",
    "model_instance.eval()\n",
    "\n",
    "embeddings = []\n",
    "labels = []\n",
    "\n",
    "\n",
    "with torch.no_grad():\n",
    "    for X, y in sample_loader:\n",
    "        # Move batch to device\n",
    "        X = X.to(device)  \n",
    "        \n",
    "        # Forward pass \n",
    "        output = model_instance(X)\n",
    "        \n",
    "        # Extract embeddings\n",
    "        emb = output['embeddings']\n",
    "        \n",
    "        # Append\n",
    "        embeddings.append(emb.detach().cpu()) \n",
    "        labels.append(y.detach().cpu())\n",
    "        \n",
    "# Concatenate        \n",
    "embeddings = torch.cat(embeddings)\n",
    "labels = torch.cat(labels)"
   ]
  }
 ],
 "metadata": {
  "kernelspec": {
   "display_name": "simclr_pytorch_reefs",
   "language": "python",
   "name": "python3"
  },
  "language_info": {
   "codemirror_mode": {
    "name": "ipython",
    "version": 3
   },
   "file_extension": ".py",
   "mimetype": "text/x-python",
   "name": "python",
   "nbconvert_exporter": "python",
   "pygments_lexer": "ipython3",
   "version": "3.8.17"
  },
  "orig_nbformat": 4
 },
 "nbformat": 4,
 "nbformat_minor": 2
}
